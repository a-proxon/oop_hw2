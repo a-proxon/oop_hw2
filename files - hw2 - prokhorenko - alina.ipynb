{
 "cells": [
  {
   "cell_type": "markdown",
   "metadata": {},
   "source": [
    "### Выполнила Прохоренко Алина"
   ]
  },
  {
   "cell_type": "markdown",
   "metadata": {},
   "source": [
    "# Задание 1"
   ]
  },
  {
   "cell_type": "code",
   "execution_count": 1,
   "metadata": {},
   "outputs": [
    {
     "name": "stdout",
     "output_type": "stream",
     "text": [
      "{'Запеченный картофель': [{'ingredient_name': 'Картофель',\n",
      "                           'measure': 'кг',\n",
      "                           'quantity': 1},\n",
      "                          {'ingredient_name': 'Чеснок',\n",
      "                           'measure': 'зубч',\n",
      "                           'quantity': 3},\n",
      "                          {'ingredient_name': 'Сыр гауда',\n",
      "                           'measure': 'г',\n",
      "                           'quantity': 100}],\n",
      " 'Омлет': [{'ingredient_name': 'Яйцо', 'measure': 'шт', 'quantity': 2},\n",
      "           {'ingredient_name': 'Молоко', 'measure': 'мл', 'quantity': 100},\n",
      "           {'ingredient_name': 'Помидор', 'measure': 'шт', 'quantity': 2}],\n",
      " 'Утка по-пекински': [{'ingredient_name': 'Утка',\n",
      "                       'measure': 'шт',\n",
      "                       'quantity': 1},\n",
      "                      {'ingredient_name': 'Вода',\n",
      "                       'measure': 'л',\n",
      "                       'quantity': 2},\n",
      "                      {'ingredient_name': 'Мед',\n",
      "                       'measure': 'ст.л',\n",
      "                       'quantity': 3},\n",
      "                      {'ingredient_name': 'Соевый соус',\n",
      "                       'measure': 'мл',\n",
      "                       'quantity': 60}],\n",
      " 'Фахитос': [{'ingredient_name': 'Говядина', 'measure': 'г', 'quantity': 500},\n",
      "             {'ingredient_name': 'Перец сладкий',\n",
      "              'measure': 'шт',\n",
      "              'quantity': 1},\n",
      "             {'ingredient_name': 'Лаваш', 'measure': 'шт', 'quantity': 2},\n",
      "             {'ingredient_name': 'Винный уксус',\n",
      "              'measure': 'ст.л',\n",
      "              'quantity': 1},\n",
      "             {'ingredient_name': 'Помидор', 'measure': 'шт', 'quantity': 2}]}\n"
     ]
    }
   ],
   "source": [
    "import os\n",
    "import time\n",
    "from pprint import pprint\n",
    "cook_book = {}\n",
    "file_path = os.path.join(os.getcwd(), 'recipes.txt')\n",
    "with open(file_path, 'rt', encoding='utf-8') as f:\n",
    "    dishes = ''\n",
    "    for x in f:\n",
    "        x = x.strip()\n",
    "        if x.isdigit():\n",
    "            continue\n",
    "        elif x and '|' not in x:\n",
    "            cook_book[x] = []\n",
    "            dishes = x\n",
    "        elif x and '|' in x:\n",
    "            a, b, c = x.split(\" | \")\n",
    "            cook_book.get(dishes).append(dict(ingredient_name=a, quantity=int(b), measure=c))\n",
    "\n",
    "pprint(cook_book)\n"
   ]
  },
  {
   "cell_type": "markdown",
   "metadata": {},
   "source": [
    "# Задание 2"
   ]
  },
  {
   "cell_type": "code",
   "execution_count": 6,
   "metadata": {},
   "outputs": [
    {
     "name": "stdout",
     "output_type": "stream",
     "text": [
      "{'Картофель': {'measure': 'кг', 'quantity': 2},\n",
      " 'Молоко': {'measure': 'мл', 'quantity': 200},\n",
      " 'Помидор': {'measure': 'шт', 'quantity': 4},\n",
      " 'Сыр гауда': {'measure': 'г', 'quantity': 200},\n",
      " 'Чеснок': {'measure': 'зубч', 'quantity': 6},\n",
      " 'Яйцо': {'measure': 'шт', 'quantity': 4}}\n"
     ]
    }
   ],
   "source": [
    "def get_shop_list_by_dishes(dishes_list, person_count):\n",
    "    \n",
    "    shop_list = {}\n",
    "    for dish in dishes_list:\n",
    "        if dish in cook_book:\n",
    "            for ingredient in cook_book[dish]:\n",
    "                if ingredient['ingredient_name'] in shop_list:\n",
    "                    shop_list[ingredient['ingredient_name']]['quantity'] += ingredient['quantity'] * person_count\n",
    "                else:\n",
    "                    shop_list[ingredient['ingredient_name']] = ({'measure': ingredient['measure'], 'quantity':\n",
    "                                                                (ingredient['quantity'] * person_count)})\n",
    "        else:\n",
    "            print('Такого блюда нет в книге')\n",
    "    return shop_list\n",
    "\n",
    "pprint(get_shop_list_by_dishes(['Запеченный картофель', 'Омлет'], 2))\n"
   ]
  },
  {
   "cell_type": "markdown",
   "metadata": {},
   "source": [
    "### Задание 3"
   ]
  },
  {
   "cell_type": "code",
   "execution_count": 14,
   "metadata": {},
   "outputs": [
    {
     "name": "stdout",
     "output_type": "stream",
     "text": [
      "<_io.TextIOWrapper name='c:\\\\Users\\\\huawei\\\\Desktop\\\\нетология python-разработчик\\\\ооп и api\\\\hw2 prokhorenko alina oop api\\\\result.txt' mode='w' encoding='utf-8'>\n"
     ]
    }
   ],
   "source": [
    "path1 = '1.txt'\n",
    "path2 = '2.txt'\n",
    "path3 = '3.txt'\n",
    "outout_file = \"rewrite_file.txt\"\n",
    "file1_path = os.path.join(os.getcwd(), '1.txt')\n",
    "file2_path = os.path.join(os.getcwd(), '2.txt')\n",
    "file3_path = os.path.join(os.getcwd(), '3.txt')\n",
    "with open(file1_path, 'r', encoding='utf-8') as file_1:\n",
    "    line_1 = {}\n",
    "    count_1 = 0\n",
    "    for line in file_1.readlines():\n",
    "        count_1 += 1\n",
    "        line_1[file1_path] = count_1\n",
    "with open(file1_path, 'r', encoding='utf-8') as file_1:\n",
    "    text_1 = file_1.read()\n",
    "\n",
    "with open(file2_path, 'r', encoding='utf-8') as file_2:\n",
    "    line_2 = {}\n",
    "    count_2 = 0\n",
    "    for line in file_2.readlines():\n",
    "        count_2 += 1\n",
    "        line_2[file2_path] = count_2\n",
    "with open(file2_path, 'r', encoding='utf-8') as file_2:\n",
    "    text_2 = file_2.read()\n",
    "\n",
    "with open(file3_path, 'r', encoding='utf-8') as file_3:\n",
    "    line_3 = {}\n",
    "    count_3 = 0\n",
    "    for line in file_3.readlines():\n",
    "        count_3 += 1\n",
    "        line_3[file3_path] = count_3\n",
    "with open(file3_path, 'r', encoding='utf-8') as file_3:\n",
    "    text_3 = file_3.read()\n",
    "\n",
    "join = sorted(list(line_1.items()) + list(line_2.items()) + list(line_3.items()), key=lambda x: x[1]) # сортировка от меньшего к большему \n",
    "\n",
    "file_path = os.path.join(os.getcwd(),'result.txt' )\n",
    "with open(file_path, 'w', encoding='utf-8') as file_result:\n",
    "    for line in join:\n",
    "        file_result.write(f'{join[0][0]}\\n {join[0][1]}\\n {text_2}\\n {join[1][0]}\\n {join[1][1]}\\n {text_1}\\n'\n",
    "                          f'{join[2][0]}\\n {join[2][1]}\\n {text_3}\\n')\n",
    "\n",
    "print(file_result)"
   ]
  }
 ],
 "metadata": {
  "kernelspec": {
   "display_name": "Python 3",
   "language": "python",
   "name": "python3"
  },
  "language_info": {
   "codemirror_mode": {
    "name": "ipython",
    "version": 3
   },
   "file_extension": ".py",
   "mimetype": "text/x-python",
   "name": "python",
   "nbconvert_exporter": "python",
   "pygments_lexer": "ipython3",
   "version": "3.11.5"
  }
 },
 "nbformat": 4,
 "nbformat_minor": 2
}
